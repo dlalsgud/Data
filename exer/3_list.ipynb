{
 "cells": [
  {
   "cell_type": "code",
   "execution_count": 4,
   "id": "e29136f3-e64e-4139-9faf-0afdaa7eba1f",
   "metadata": {},
   "outputs": [
    {
     "name": "stdout",
     "output_type": "stream",
     "text": [
      "[2, 3, 5, 7, 11, 2]\n"
     ]
    }
   ],
   "source": [
    "\"\"\"\n",
    "Lists\n",
    "\"\"\"\n",
    "\n",
    "primes = [2,3,5,7,11,2]\n",
    "print(primes)"
   ]
  },
  {
   "cell_type": "code",
   "execution_count": 9,
   "id": "d0ed912e-dd7f-4a5c-8efa-a7bc1fdbabf7",
   "metadata": {},
   "outputs": [
    {
     "name": "stdout",
     "output_type": "stream",
     "text": [
      "['Jenny', 1, 1.4, True]\n",
      "[['a', 1], [2, 'b']]\n"
     ]
    }
   ],
   "source": [
    "\"\"\"\n",
    "Multiple different data types\n",
    "\"\"\"\n",
    "mixed = ['Jenny',1,1.4,True]\n",
    "print(mixed)\n",
    "\n",
    "list_of_list = [['a', 1],[2,'b']]\n",
    "print(list_of_list)"
   ]
  },
  {
   "cell_type": "code",
   "execution_count": 12,
   "id": "f688ed6b-590f-461f-abcd-a08cedc71d15",
   "metadata": {},
   "outputs": [
    {
     "name": "stdout",
     "output_type": "stream",
     "text": [
      "Roger\n",
      "Rafael\n",
      "Andy\n",
      "Novak\n"
     ]
    }
   ],
   "source": [
    "\"\"\"\n",
    "Zero indexing\n",
    "\"\"\"\n",
    "\n",
    "names = ['Roger', 'Rafael', 'Andy', 'Novak']\n",
    "\n",
    "print(names[0])\n",
    "print(names[1])\n",
    "print(names[2])\n",
    "print(names[3])"
   ]
  },
  {
   "cell_type": "code",
   "execution_count": 16,
   "id": "75c19a82-f4e1-43cf-942c-f7632bae829f",
   "metadata": {},
   "outputs": [
    {
     "name": "stdout",
     "output_type": "stream",
     "text": [
      "Novak\n",
      "Andy\n",
      "Rafael\n",
      "Roger\n"
     ]
    }
   ],
   "source": [
    "\"\"\"\n",
    "Negatice indexing\n",
    "\"\"\"\n",
    "\n",
    "print(names[-1])#Last data\n",
    "print(names[-2])\n",
    "print(names[-3])\n",
    "print(names[-4])"
   ]
  },
  {
   "cell_type": "code",
   "execution_count": 23,
   "id": "5baeaac9-abd3-4e89-bccf-b2b5060b9673",
   "metadata": {},
   "outputs": [
    {
     "name": "stdout",
     "output_type": "stream",
     "text": [
      "['생활관', '필헌관', '소통관']\n",
      "['만우관', '장공관', '필헌관', '소통관', '송암관', '늦봄관', '장준하통일관']\n"
     ]
    }
   ],
   "source": [
    "\"\"\"\n",
    "List slicing\n",
    "\"\"\"\n",
    "hsu_buildings = ['만우관', '장공관', '필헌관', '소통관', '송암관', '늦봄관', '장준하통일관']\n",
    "\n",
    "building_slice = hsu_buildings[1:4]\n",
    "building_slice[0] = '생활관'\n",
    "\n",
    "print(building_slice)\n",
    "print(hsu_buildings)"
   ]
  },
  {
   "cell_type": "code",
   "execution_count": 29,
   "id": "a01bab8b-9e84-42e6-9d4a-1d8de56af795",
   "metadata": {},
   "outputs": [
    {
     "name": "stdout",
     "output_type": "stream",
     "text": [
      "[['해우리', '한식', '고s'], ['짜장명가', '중식', '중화비빔밥'], ['찌개동아리', '한식', '제육전골'], ['맘스터치', '양식', '싸이버거']]\n",
      "['해우리', '한식', '해우라면']\n"
     ]
    }
   ],
   "source": [
    "restaurants = [['해우리', '한식', '고s'], ['짜장명가', '중식', '중화비빔밥'], \n",
    "              ['찌개동아리', '한식', '제육전골'], ['맘스터치', '양식', '싸이버거']]\n",
    "\n",
    "print(restaurants)\n",
    "\n",
    "restaurants[0][2] = '해우라면'\n",
    "print(restaurants[0])"
   ]
  },
  {
   "cell_type": "code",
   "execution_count": 31,
   "id": "80db9399-8e9a-4d2d-8aac-c76c18bc5588",
   "metadata": {},
   "outputs": [
    {
     "name": "stdout",
     "output_type": "stream",
     "text": [
      "['cake', 'cookie', 'bread']\n"
     ]
    }
   ],
   "source": [
    "\"\"\"\n",
    "Adding lists\n",
    "\"\"\"\n",
    "\n",
    "items_one = ['cake', 'cookie']\n",
    "items_two = ['bread']\n",
    "\n",
    "total_items = items_one + items_two\n",
    "\n",
    "print(total_items)"
   ]
  },
  {
   "cell_type": "code",
   "execution_count": 47,
   "id": "bb60d08a-e30a-4eb6-83f4-fe7005b5d1fb",
   "metadata": {},
   "outputs": [
    {
     "name": "stdout",
     "output_type": "stream",
     "text": [
      "5\n",
      "4\n",
      "['daisies', 'perwinkle', 'rose']\n",
      "['Karla', 'Maxium', 'vikor', 'Martin', 'Isabella']\n",
      "['Karla', 'Maxium', 'vikor', 'Isabella']\n",
      "['Karla', 'vikor', 'Isabella']\n",
      "[1, 2, 3, 4]\n",
      "['늦봄관', '만우관', '소통관', '송암관', '장공관', '장준하통일관', '필헌관']\n",
      "[1, 2, 3, 4]\n"
     ]
    }
   ],
   "source": [
    "#len()\n",
    "knapsack = [2, 4, 3, 5, 7]\n",
    "size = len(knapsack)\n",
    "print(size)\n",
    "\n",
    "#count()\n",
    "backpack = ['pencil', 'pen', 'pencil', 'pencil', 'notebook', 'pencil']\n",
    "numPencil = backpack.count('pencil')\n",
    "\n",
    "print(numPencil)\n",
    "\n",
    "#append()\n",
    "orders = ['daisies', 'perwinkle']\n",
    "orders.append('rose')\n",
    "\n",
    "print(orders)\n",
    "\n",
    "#insert()\n",
    "store_line = ['Karla', 'Maxium', 'Martin', 'Isabella']\n",
    "store_line.insert(2,'vikor')\n",
    "\n",
    "print(store_line)\n",
    "\n",
    "#pop()\n",
    "store_line.pop(3)\n",
    "\n",
    "print(store_line)\n",
    "\n",
    "#remove()\n",
    "store_line.remove('Maxium')\n",
    "\n",
    "print(store_line)\n",
    "\n",
    "#sort()\n",
    "numbers = [4, 2, 1, 3]\n",
    "numbers.sort()\n",
    "print(numbers)\n",
    "\n",
    "hsu_buildings.sort()\n",
    "\n",
    "print(hsu_buildings)\n",
    "\n",
    "#sorted()\n",
    "numbers = [4, 2, 1, 3]\n",
    "sorted_numbers = sorted(numbers)\n",
    "print(sorted_numbers)"
   ]
  }
 ],
 "metadata": {
  "kernelspec": {
   "display_name": "Python 3",
   "language": "python",
   "name": "python3"
  },
  "language_info": {
   "codemirror_mode": {
    "name": "ipython",
    "version": 3
   },
   "file_extension": ".py",
   "mimetype": "text/x-python",
   "name": "python",
   "nbconvert_exporter": "python",
   "pygments_lexer": "ipython3",
   "version": "3.8.8"
  }
 },
 "nbformat": 4,
 "nbformat_minor": 5
}
