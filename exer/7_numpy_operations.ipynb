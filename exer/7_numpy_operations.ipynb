{
 "cells": [
  {
   "cell_type": "code",
   "execution_count": 2,
   "id": "1ef5ec5d-3425-44f5-9f88-d2ec6f50bde0",
   "metadata": {},
   "outputs": [],
   "source": [
    "import numpy as np"
   ]
  },
  {
   "cell_type": "code",
   "execution_count": 44,
   "id": "f6e41d73-9605-4d0c-aed0-095af29fd8c1",
   "metadata": {},
   "outputs": [
    {
     "name": "stdout",
     "output_type": "stream",
     "text": [
      "[0 1 2]\n",
      "[3 4]\n",
      "[3 5]\n"
     ]
    }
   ],
   "source": [
    "\"\"\"\n",
    "numpy array attributes\n",
    "\"\"\"\n",
    "\n",
    "print(np.arange(3))\n",
    "print(np.arange(3,5))\n",
    "print(np.arange(3,7,2))"
   ]
  },
  {
   "cell_type": "code",
   "execution_count": 45,
   "id": "0344da81-2814-4df8-a46c-497a0b9a511e",
   "metadata": {},
   "outputs": [
    {
     "data": {
      "text/plain": [
       "'\\nrand'"
      ]
     },
     "execution_count": 45,
     "metadata": {},
     "output_type": "execute_result"
    }
   ],
   "source": [
    "\"\"\"\n",
    "rand\"\"\""
   ]
  },
  {
   "cell_type": "code",
   "execution_count": 49,
   "id": "988aafa4-0e94-4753-8914-4a6c112f939e",
   "metadata": {},
   "outputs": [
    {
     "name": "stdout",
     "output_type": "stream",
     "text": [
      "[[5 8 9 5]\n",
      " [0 0 1 7]\n",
      " [6 9 2 4]]\n",
      "arr.ndim = 2\n",
      "arr.shape = (3, 4)\n",
      "arr.size = 12\n",
      "arr.dtype = int32\n",
      "arr.itemsize = 4\n",
      "arr.nbytes = 48\n"
     ]
    }
   ],
   "source": [
    "np.random.seed(1)\n",
    "arr = np.random.randint(10,size=(3,4))\n",
    "print(arr)\n",
    "\n",
    "print(\"arr.ndim =\", arr.ndim)\n",
    "print(\"arr.shape =\", arr.shape)\n",
    "print(\"arr.size =\", arr.size)\n",
    "\n",
    "print(\"arr.dtype =\", arr.dtype)\n",
    "print(\"arr.itemsize =\", arr.itemsize)\n",
    "print(\"arr.nbytes =\", arr.nbytes)"
   ]
  },
  {
   "cell_type": "code",
   "execution_count": 52,
   "id": "82662d80-f1d8-4190-9b6b-57a2bf750fec",
   "metadata": {},
   "outputs": [
    {
     "name": "stdout",
     "output_type": "stream",
     "text": [
      "[0 1 2 3 4 5 6 7 8 9]\n",
      "[3 4 5 6]\n",
      "[0 1 2 3 4]\n",
      "[5 6 7 8 9]\n",
      "[0 3 6 9]\n",
      "[2 4 6]\n"
     ]
    }
   ],
   "source": [
    "\"\"\"\n",
    "Slicing\n",
    "\"\"\"\n",
    "\n",
    "arr = np.arange(10)\n",
    "print(arr) \n",
    "\n",
    "print(arr[3:7])\n",
    "print(arr[:5])\n",
    "print(arr[5:])\n",
    "print(arr[::3])\n",
    "print(arr[2:8:2])"
   ]
  },
  {
   "cell_type": "code",
   "execution_count": 63,
   "id": "1b16bf92-7d27-47c8-a2f3-794aa36163c5",
   "metadata": {},
   "outputs": [
    {
     "name": "stdout",
     "output_type": "stream",
     "text": [
      "[[8 8 6 2 8 7 2]\n",
      " [1 5 4 4 5 7 3]\n",
      " [6 4 3 7 6 1 3]\n",
      " [5 8 4 6 3 9 2]\n",
      " [0 4 2 4 1 7 8]]\n",
      "[[8 8 6]\n",
      " [1 5 4]]\n",
      "[[8 6 8 2]\n",
      " [1 4 5 3]\n",
      " [6 3 6 3]]\n"
     ]
    }
   ],
   "source": [
    "arr = np.random.randint(10,size=(5,7))\n",
    " \n",
    "print(arr)\n",
    "print(arr[:2,:3])\n",
    "print(arr[:3, ::2])"
   ]
  },
  {
   "cell_type": "code",
   "execution_count": 68,
   "id": "e6785fe4-e7ea-4c4f-93fa-d9892200370c",
   "metadata": {},
   "outputs": [
    {
     "name": "stdout",
     "output_type": "stream",
     "text": [
      "[[8 8 6 2 8 7 2 1]\n",
      " [5 4 4 5 7 3 6 4]\n",
      " [3 7 6 1 3 5 8 4]\n",
      " [6 3 9 2 0 4 2 4]\n",
      " [1 7 8 2 9 8 7 1]\n",
      " [6 8 5 9 9 9 3 0]]\n",
      "[[8 8]\n",
      " [5 4]]\n",
      "[[99  8  6  2  8  7  2  1]\n",
      " [ 5  4  4  5  7  3  6  4]\n",
      " [ 3  7  6  1  3  5  8  4]\n",
      " [ 6  3  9  2  0  4  2  4]\n",
      " [ 1  7  8  2  9  8  7  1]\n",
      " [ 6  8  5  9  9  9  3  0]]\n"
     ]
    }
   ],
   "source": [
    "np.random.seed(2)\n",
    "arr = np.random.randint(10, size = (6,8))\n",
    "print(arr)\n",
    "\n",
    "arr_sub = arr[:2, :2]\n",
    "print(arr_sub)\n",
    "\n",
    "arr_sub[0,0 ]=99\n",
    "print(arr)"
   ]
  },
  {
   "cell_type": "code",
   "execution_count": 72,
   "id": "1c402ca2-7a76-4cd4-ae1b-adbb7e8e17fb",
   "metadata": {},
   "outputs": [
    {
     "name": "stdout",
     "output_type": "stream",
     "text": [
      "[[99  8  6  2  8  7  2  1]\n",
      " [ 5  4  4  5  7  3  6  4]\n",
      " [ 3  7  6  1  3  5  8  4]\n",
      " [ 6  3  9  2  0  4  2  4]\n",
      " [ 1  7  8  2  9  8  7  1]\n",
      " [ 6  8  5  9  9  9  3  0]]\n",
      "[[99  8  6  2  8  7  2  1]\n",
      " [ 5  4  4  5  7  3  6  4]\n",
      " [ 3  7  6  1  3  5  8  4]\n",
      " [ 6  3  9  2  0  4  2  4]\n",
      " [ 1  7  8  2  9  8  7  1]\n",
      " [ 6  8  5  9  9  9  3  0]]\n",
      "[[55  8]\n",
      " [ 5  4]]\n"
     ]
    }
   ],
   "source": [
    "\"\"\"\n",
    "subarrays as no-copy viewxs\n",
    "\"\"\"\n",
    "\n",
    "print(arr)\n",
    "\n",
    "arr_sub = arr[:2,:2].copy()\n",
    "\n",
    "arr_sub[0,0]=55\n",
    "\n",
    "print(arr)\n",
    "print(arr_sub)"
   ]
  },
  {
   "cell_type": "code",
   "execution_count": 84,
   "id": "f1c9b4ab-b677-44ec-aa35-b8046e085bec",
   "metadata": {},
   "outputs": [
    {
     "name": "stdout",
     "output_type": "stream",
     "text": [
      "[1 2 3 4 5 6 7 8 9] \n",
      "\n",
      "[[1 2 3]\n",
      " [4 5 6]\n",
      " [7 8 9]] \n",
      "\n"
     ]
    }
   ],
   "source": [
    "\"\"\"\n",
    "reshaping of arrays\n",
    "\"\"\"\n",
    "\n",
    "arr = np.arange(1,10)\n",
    "print(arr,'\\n')\n",
    "\n",
    "grid = arr.reshape(3,3)\n",
    "print(grid, '\\n')"
   ]
  },
  {
   "cell_type": "code",
   "execution_count": 86,
   "id": "abb6bb31-306c-495c-b3ea-7e273d00a510",
   "metadata": {},
   "outputs": [
    {
     "name": "stdout",
     "output_type": "stream",
     "text": [
      "[1 2 3]\n",
      "(3,) \n",
      "\n",
      "[[1 2 3]]\n",
      "(1, 3) \n",
      "\n",
      "[[1]\n",
      " [2]\n",
      " [3]]\n",
      "(3, 1) \n",
      "\n"
     ]
    }
   ],
   "source": [
    "#np.newaxis\n",
    "\n",
    "arr = np.array([1,2,3])\n",
    "print(arr)\n",
    "print(arr.shape, '\\n')\n",
    "\n",
    "arr_new = arr[np.newaxis, :]\n",
    "print(arr_new)\n",
    "print(arr_new.shape, '\\n')\n",
    "\n",
    "arr_new = arr[:,np.newaxis]\n",
    "print(arr_new)\n",
    "print(arr_new.shape, '\\n')"
   ]
  },
  {
   "cell_type": "code",
   "execution_count": 95,
   "id": "ad8d1531-1e5c-42ea-9dfc-1785c427dcd0",
   "metadata": {},
   "outputs": [
    {
     "name": "stdout",
     "output_type": "stream",
     "text": [
      "[[1 2 3]\n",
      " [1 2 3]\n",
      " [4 5 6]\n",
      " [4 5 6]\n",
      " [7 8 9]\n",
      " [7 8 9]]\n",
      "[[1 2 3]\n",
      " [1 2 3]\n",
      " [4 5 6]\n",
      " [4 5 6]\n",
      " [7 8 9]\n",
      " [7 8 9]]\n",
      "[[1 2 3 4 5 6 7 8 9]\n",
      " [1 2 3 4 5 6 7 8 9]]\n"
     ]
    }
   ],
   "source": [
    "\"\"\"\n",
    "array concatenation\n",
    "\"\"\"\n",
    "\n",
    "arr_1 = np.array([[1,2,3],[1,2,3]])\n",
    "arr_2 = np.array([[4,5,6],[4,5,6]])\n",
    "arr_3 = np.array([[7,8,9],[7,8,9]])\n",
    "\n",
    "arr_total = np.concatenate([arr_1,arr_2,arr_3])\n",
    "print(arr_total)\n",
    "\n",
    "# arr_total = np.concatenate([arr_1,arr_2,arr_3], axis =1)\n",
    "# print(arr_total)  #가로로 만들기\n",
    "\n",
    "arr_total = np.vstack([arr_1,arr_2,arr_3])\n",
    "print(arr_total)\n",
    "\n",
    "arr_total = np.hstack([arr_1,arr_2,arr_3])\n",
    "print(arr_total)"
   ]
  },
  {
   "cell_type": "code",
   "execution_count": 96,
   "id": "90d5d9b9-6a47-4d69-9f61-8e4c3f6ef4a0",
   "metadata": {},
   "outputs": [
    {
     "name": "stdout",
     "output_type": "stream",
     "text": [
      "[1, 2, 3, 99, 99, 3, 2, 1] \n",
      "\n",
      "[ 1  2  3 99] [99  3  2  1]\n"
     ]
    }
   ],
   "source": [
    "\"\"\"\n",
    "array Splitting\n",
    "\"\"\"\n",
    "\n",
    "arr = [1,2,3,99,99,3,2,1]\n",
    "print(arr, '\\n')\n",
    "\n",
    "arr_1, arr_2 = np.split(arr,[4])\n",
    "print(arr_1, arr_2)"
   ]
  }
 ],
 "metadata": {
  "kernelspec": {
   "display_name": "Python 3",
   "language": "python",
   "name": "python3"
  },
  "language_info": {
   "codemirror_mode": {
    "name": "ipython",
    "version": 3
   },
   "file_extension": ".py",
   "mimetype": "text/x-python",
   "name": "python",
   "nbconvert_exporter": "python",
   "pygments_lexer": "ipython3",
   "version": "3.8.8"
  }
 },
 "nbformat": 4,
 "nbformat_minor": 5
}
