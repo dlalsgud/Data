{
 "cells": [
  {
   "cell_type": "code",
   "execution_count": 1,
   "id": "7d47001c-1362-41dd-8ad6-ab8a735f5385",
   "metadata": {},
   "outputs": [],
   "source": [
    "import numpy as np"
   ]
  },
  {
   "cell_type": "code",
   "execution_count": 7,
   "id": "55789cce-18a8-4ebf-908e-69dcce1d09af",
   "metadata": {},
   "outputs": [
    {
     "name": "stdout",
     "output_type": "stream",
     "text": [
      "[[1. 1. 1. 1.]\n",
      " [1. 1. 1. 1.]\n",
      " [1. 1. 1. 1.]]\n",
      "[0 1 2 3]\n",
      "[[1. 2. 3. 4.]\n",
      " [1. 2. 3. 4.]\n",
      " [1. 2. 3. 4.]]\n"
     ]
    }
   ],
   "source": [
    "\"\"\"\n",
    "Introduction to Broadcasting\n",
    "\"\"\"\n",
    "\n",
    "#Broadcasting 2D + 1D arrays\n",
    "\n",
    "a = np.ones((3,4)) # 3*3 size\n",
    "print(a)\n",
    "\n",
    "b=np.arange(4)\n",
    "print(b)\n",
    "\n",
    "print(a+b)"
   ]
  },
  {
   "cell_type": "code",
   "execution_count": 10,
   "id": "15c1abc3-5503-46ab-bd19-4977698b0b67",
   "metadata": {},
   "outputs": [
    {
     "name": "stdout",
     "output_type": "stream",
     "text": [
      "[0 1 2]\n",
      "[[0]\n",
      " [1]\n",
      " [2]]\n",
      "[0 1 2]\n",
      "[[0 1 2]\n",
      " [1 2 3]\n",
      " [2 3 4]]\n"
     ]
    }
   ],
   "source": [
    "#Broadcast both arrays\n",
    "\n",
    "a= np.arange(3)\n",
    "print(a)\n",
    "a= a[:,np.newaxis]\n",
    "print(a)\n",
    "b=np.arange(3)\n",
    "print(b)\n",
    "\n",
    "print(a+b)"
   ]
  },
  {
   "cell_type": "code",
   "execution_count": 13,
   "id": "2ff5e974-8d45-40af-adb3-8e3d0474442a",
   "metadata": {},
   "outputs": [
    {
     "name": "stdout",
     "output_type": "stream",
     "text": [
      "[ True  True False False False]\n",
      "[ True  True False  True  True]\n"
     ]
    }
   ],
   "source": [
    "\"\"\"\n",
    "Comparisons, Masks, and Boolean Logic\n",
    "\"\"\"\n",
    "\n",
    "x = np.array([1,2,3,4,5])\n",
    "print(x<3)\n",
    "print(x!=3)"
   ]
  },
  {
   "cell_type": "code",
   "execution_count": 16,
   "id": "d9894c48-4d5c-4c62-aaec-bd84998ce33d",
   "metadata": {},
   "outputs": [
    {
     "name": "stdout",
     "output_type": "stream",
     "text": [
      "[[False  True  True  True]\n",
      " [False False  True False]\n",
      " [ True  True False False]]\n"
     ]
    }
   ],
   "source": [
    "#bool masking for multi-dimensional arrays\n",
    "\n",
    "np.random.seed(0)\n",
    "a= np.random.randint(10,size=(3,4))\n",
    "\n",
    "print(a<5)"
   ]
  },
  {
   "cell_type": "code",
   "execution_count": 24,
   "id": "2b608a71-dde8-4328-b8ca-d4492931d498",
   "metadata": {},
   "outputs": [
    {
     "name": "stdout",
     "output_type": "stream",
     "text": [
      "[[5 0 3 3]\n",
      " [7 9 3 5]\n",
      " [2 4 7 6]]\n",
      "8\n",
      "True\n",
      "False\n"
     ]
    }
   ],
   "source": [
    "\"\"\"\n",
    "Working with Boolean Arrays\n",
    "\"\"\"\n",
    "\n",
    "print(a)\n",
    "print(np.count_nonzero(a<6)) #True 1, False 0 \n",
    "# print(np.sum(a<6))\n",
    "\n",
    "print(np.any(a >8))\n",
    "print(np.all(a > 1))"
   ]
  },
  {
   "cell_type": "code",
   "execution_count": 26,
   "id": "35973a85-9f52-4068-b0c4-99fee3169d04",
   "metadata": {},
   "outputs": [
    {
     "name": "stdout",
     "output_type": "stream",
     "text": [
      "[[5 0 3 3]\n",
      " [7 9 3 5]\n",
      " [2 4 7 6]]\n",
      "[[False  True  True  True]\n",
      " [False False  True False]\n",
      " [ True  True False False]]\n",
      "[0 3 3 3 2 4]\n"
     ]
    }
   ],
   "source": [
    "#Masking operations\n",
    "\n",
    "print(a)\n",
    "print(a < 5)\n",
    "print(a[a < 5])"
   ]
  },
  {
   "cell_type": "code",
   "execution_count": 29,
   "id": "a739ce48-ab60-499b-b36c-92e06be07a0c",
   "metadata": {},
   "outputs": [
    {
     "name": "stdout",
     "output_type": "stream",
     "text": [
      "[37 12 72  9 75  5 79 64 16  1]\n",
      "72 75 79\n",
      "[72 75 79]\n"
     ]
    }
   ],
   "source": [
    "\"\"\"\n",
    "Fancy Indexing\n",
    "\"\"\"\n",
    "\n",
    "np.random.seed(1)\n",
    "x = np.random.randint(100, size=10)\n",
    "print(x)\n",
    "\n",
    "a = x[2]; b=x[4]; c = x[6] #한줄에 여러 코드를 쓸 때 사용 ;\n",
    "print(a,b,c)\n",
    "\n",
    "ind = [2,4,6]\n",
    "print(x[ind])"
   ]
  },
  {
   "cell_type": "code",
   "execution_count": 32,
   "id": "21fbfae7-9524-4b8a-9d3e-b61f5e23aac1",
   "metadata": {},
   "outputs": [
    {
     "name": "stdout",
     "output_type": "stream",
     "text": [
      "[[7 3 6 5 1]\n",
      " [9 3 4 8 1]\n",
      " [4 0 3 9 2]]\n",
      "[6 3 2]\n"
     ]
    }
   ],
   "source": [
    "#For n-D arrays\n",
    "x = np.random.randint(10,size = (3,5))\n",
    "print(x)\n",
    "\n",
    "row = [0,1,2]\n",
    "col = [2,1,4]\n",
    "\n",
    "print(x[row,col])"
   ]
  },
  {
   "cell_type": "code",
   "execution_count": 36,
   "id": "a113c4b2-a6ac-4734-b4e3-cd94492e793b",
   "metadata": {},
   "outputs": [
    {
     "name": "stdout",
     "output_type": "stream",
     "text": [
      "[[7 3 6 5 1]\n",
      " [9 3 4 8 1]\n",
      " [4 0 3 9 2]]\n"
     ]
    },
    {
     "data": {
      "text/plain": [
       "array([[6, 3, 1],\n",
       "       [4, 3, 1],\n",
       "       [3, 0, 2]])"
      ]
     },
     "execution_count": 36,
     "metadata": {},
     "output_type": "execute_result"
    }
   ],
   "source": [
    "#For n-D arrays with broadcasting\n",
    "\n",
    "print(x)\n",
    "row = np.array([0,1,2]) # list -> ndarray\n",
    "col = np.array([2,1,4])\n",
    "\n",
    "x[row[:,np.newaxis], col]\n"
   ]
  },
  {
   "cell_type": "code",
   "execution_count": 45,
   "id": "ad12df7d-a00d-4fc3-bbb2-c080d1d181ce",
   "metadata": {},
   "outputs": [
    {
     "name": "stdout",
     "output_type": "stream",
     "text": [
      "[[ 1  2  3  4]\n",
      " [ 5  6  7  8]\n",
      " [ 9 10 11 12]]\n",
      "[11  9 10]\n",
      "[[ 7  5  6]\n",
      " [11  9 10]]\n"
     ]
    }
   ],
   "source": [
    "\"\"\"\n",
    "Combined Indexing\n",
    "\"\"\"\n",
    "\n",
    "x = np.arange(1,13).reshape(3,4)\n",
    "print(x)\n",
    "ind = x[2,[2,0,1]] #기본 인덱싱+ 팬시 인덱싱\n",
    "print(ind)\n",
    "\n",
    "print(x[1:,[2,0,1]]) #슬라이싱 + 팬시 인덱싱"
   ]
  }
 ],
 "metadata": {
  "kernelspec": {
   "display_name": "Python 3",
   "language": "python",
   "name": "python3"
  },
  "language_info": {
   "codemirror_mode": {
    "name": "ipython",
    "version": 3
   },
   "file_extension": ".py",
   "mimetype": "text/x-python",
   "name": "python",
   "nbconvert_exporter": "python",
   "pygments_lexer": "ipython3",
   "version": "3.8.8"
  }
 },
 "nbformat": 4,
 "nbformat_minor": 5
}
