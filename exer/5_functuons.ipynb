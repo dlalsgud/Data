{
 "cells": [
  {
   "cell_type": "code",
   "execution_count": 19,
   "id": "ef59f255-e009-42e5-bbf0-755c4cb266e7",
   "metadata": {},
   "outputs": [
    {
     "name": "stdout",
     "output_type": "stream",
     "text": [
      "3\n",
      "3\n"
     ]
    },
    {
     "data": {
      "text/plain": [
       "6"
      ]
     },
     "execution_count": 19,
     "metadata": {},
     "output_type": "execute_result"
    }
   ],
   "source": [
    "\"\"\"\n",
    "Functions vs Method\n",
    "\"\"\"\n",
    "\n",
    "def my_function(x):\n",
    "    return x+1\n",
    "\n",
    "print(my_function(2))\n",
    "\n",
    "x =5\n",
    "\n",
    "class my_class:\n",
    "    @staticmethod \n",
    "    def my_method(x):\n",
    "        return x+1\n",
    "\n",
    "cls =my_class()\n",
    "print(cls.my_method(2))\n",
    "\n",
    "class my_cl:\n",
    "    def my_method1(self):\n",
    "        return x+1\n",
    "\n",
    "cls1 = my_cl()\n",
    "x=5\n",
    "cls1.my_method1()"
   ]
  },
  {
   "cell_type": "code",
   "execution_count": 21,
   "id": "37bf1c4c-e6df-4d66-9e4d-2d97b6fa27c6",
   "metadata": {},
   "outputs": [
    {
     "name": "stdout",
     "output_type": "stream",
     "text": [
      "Hello everyone my name is  lee min, I was born in 1999, and I live in incheon.\n"
     ]
    }
   ],
   "source": [
    "\"\"\"\n",
    "Function Parameters\n",
    "\"\"\"\n",
    "\n",
    "def introduce_myself(name, birthyear, city): #parameter\n",
    "    print(\"Hello everyone my name is  %s, I was born in %d, and I live in %s.\" %(name, birthyear, city))\n",
    "    \n",
    "introduce_myself(\"lee min\", 1999, \"incheon\") #argument"
   ]
  },
  {
   "cell_type": "code",
   "execution_count": 23,
   "id": "ae7193e4-2904-4c00-b4bf-df3952cee1aa",
   "metadata": {},
   "outputs": [
    {
     "name": "stdout",
     "output_type": "stream",
     "text": [
      "2020 is a leap yaer\n"
     ]
    }
   ],
   "source": [
    "\"\"\"\n",
    "Return Keyword\n",
    "\"\"\"\n",
    "\n",
    "#Leap year = 윤년 (2월 29일)\n",
    "def check_leap_year(year):\n",
    "    if year %4 ==0:\n",
    "        return \"%s is a leap yaer\" %(year)\n",
    "    else:\n",
    "        return \"%s is not a leap yaer.\"%(year)\n",
    "    \n",
    "result = check_leap_year(2020)\n",
    "print(result)"
   ]
  },
  {
   "cell_type": "code",
   "execution_count": 31,
   "id": "44a4d356-1a30-4579-a087-1b4c57b2add0",
   "metadata": {},
   "outputs": [
    {
     "name": "stdout",
     "output_type": "stream",
     "text": [
      "4 9 16\n"
     ]
    }
   ],
   "source": [
    "\"\"\"\n",
    "Returning Multiple Values\n",
    "\"\"\"\n",
    "\n",
    "def square_point(x,y,z):\n",
    "    x_squared = x**2\n",
    "    y_squared = y**2\n",
    "    z_squared = z**2\n",
    "    return x_squared, y_squared, z_squared\n",
    "\n",
    "three_squared, four_squared, five_squared = square_point(2,3,4)\n",
    "print(three_squared, four_squared, five_squared)"
   ]
  },
  {
   "cell_type": "code",
   "execution_count": 25,
   "id": "16bd12a0-52e0-42aa-8c2e-748a0be36d7e",
   "metadata": {},
   "outputs": [
    {
     "name": "stdout",
     "output_type": "stream",
     "text": [
      "Hello\n"
     ]
    }
   ],
   "source": [
    "\"\"\"\n",
    "Global Variables\n",
    "\"\"\"\n",
    "\n",
    "a= \"Hello\" #전역변수, global var\n",
    "\n",
    "def prints_a():\n",
    "    print(a)\n",
    "\n",
    "prints_a()"
   ]
  },
  {
   "cell_type": "code",
   "execution_count": 29,
   "id": "72f940c2-f100-430a-a5e3-ebd196e9ea15",
   "metadata": {},
   "outputs": [
    {
     "name": "stdout",
     "output_type": "stream",
     "text": [
      "2\n",
      "5\n"
     ]
    }
   ],
   "source": [
    "\"\"\"\n",
    "Local Variables\n",
    "\"\"\"\n",
    "\n",
    "def f1():\n",
    "    b = 2 #local var\n",
    "    print(b)\n",
    "    \n",
    "b= 5\n",
    "f1()\n",
    "print(b)"
   ]
  },
  {
   "cell_type": "code",
   "execution_count": 1,
   "id": "3e40538d-3f27-4736-9b5f-3a95123df7cf",
   "metadata": {},
   "outputs": [
    {
     "name": "stdout",
     "output_type": "stream",
     "text": [
      "Height = 1\n",
      "Width = 2\n",
      "Depth = 3\n",
      "6\n"
     ]
    },
    {
     "data": {
      "text/plain": [
       "'\\ndef findvolume(height, width, depth=3):\\n    print(\"Height = %s\" % (height))\\n    print(\"Width = %s\" % (width))\\n    print(\"Depth = %s\" % (depth)) \\n    return height * width * depth\\n\\nprint(findvolume(width =2,height =1))\\n'"
      ]
     },
     "execution_count": 1,
     "metadata": {},
     "output_type": "execute_result"
    }
   ],
   "source": [
    "\"\"\"\n",
    "Keyword Arguments and Default values\n",
    "\"\"\"\n",
    "\n",
    "def findvolume(height, width, depth):\n",
    "    print(\"Height = %s\" % (height))\n",
    "    print(\"Width = %s\" % (width))\n",
    "    print(\"Depth = %s\" % (depth)) \n",
    "    return height * width * depth\n",
    "\n",
    "print(findvolume(width =2,height =1,depth=3))\n",
    "\n",
    "\"\"\"\n",
    "def findvolume(height, width, depth=3):\n",
    "    print(\"Height = %s\" % (height))\n",
    "    print(\"Width = %s\" % (width))\n",
    "    print(\"Depth = %s\" % (depth)) \n",
    "    return height * width * depth\n",
    "\n",
    "print(findvolume(width =2,height =1))\n",
    "\"\"\""
   ]
  }
 ],
 "metadata": {
  "kernelspec": {
   "display_name": "Python 3",
   "language": "python",
   "name": "python3"
  },
  "language_info": {
   "codemirror_mode": {
    "name": "ipython",
    "version": 3
   },
   "file_extension": ".py",
   "mimetype": "text/x-python",
   "name": "python",
   "nbconvert_exporter": "python",
   "pygments_lexer": "ipython3",
   "version": "3.8.8"
  }
 },
 "nbformat": 4,
 "nbformat_minor": 5
}
