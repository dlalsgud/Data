{
 "cells": [
  {
   "cell_type": "code",
   "execution_count": null,
   "id": "63c7e61d-1424-483b-b1b1-75b3e0e6ee83",
   "metadata": {},
   "outputs": [],
   "source": [
    "\"\"\"\n",
    "for Loops\n",
    "\"\"\"\n",
    "\n",
    "nums = [1, 2, 3, 6, 5]\n",
    "for num in nums:\n",
    "    print(num)"
   ]
  },
  {
   "cell_type": "code",
   "execution_count": 10,
   "id": "e398af98-cc80-4856-acdc-0745cc727f9a",
   "metadata": {},
   "outputs": [
    {
     "ename": "SyntaxError",
     "evalue": "invalid syntax (<ipython-input-10-285373ece4e0>, line 6)",
     "output_type": "error",
     "traceback": [
      "\u001b[1;36m  File \u001b[1;32m\"<ipython-input-10-285373ece4e0>\"\u001b[1;36m, line \u001b[1;32m6\u001b[0m\n\u001b[1;33m    print(i\"\\n\")\u001b[0m\n\u001b[1;37m           ^\u001b[0m\n\u001b[1;31mSyntaxError\u001b[0m\u001b[1;31m:\u001b[0m invalid syntax\n"
     ]
    }
   ],
   "source": [
    "\"\"\"\n",
    "Range\n",
    "\"\"\"\n",
    "\n",
    "for i in range(4):\n",
    "    print(i)"
   ]
  },
  {
   "cell_type": "code",
   "execution_count": 13,
   "id": "4544869b-88d1-438e-96db-80fcefc08090",
   "metadata": {},
   "outputs": [
    {
     "name": "stdout",
     "output_type": "stream",
     "text": [
      "1\n",
      "2\n",
      "3\n",
      "4\n",
      "5\n"
     ]
    }
   ],
   "source": [
    "\"\"\"\n",
    "contunue Keyword\n",
    "\"\"\"\n",
    "nums = [-1, -2, 1, 2, 3, 4, -5, 5]\n",
    "for num in nums:\n",
    "    #If num is negative, skip\n",
    "    if num < 0:\n",
    "        continue\n",
    "    print(num)"
   ]
  },
  {
   "cell_type": "code",
   "execution_count": 20,
   "id": "bf66a844-38de-4d2b-ac79-1cc6b68e8786",
   "metadata": {},
   "outputs": [
    {
     "name": "stdout",
     "output_type": "stream",
     "text": [
      "stage1 is complete.\n",
      "stage2 is complete.\n",
      "stage3 is complete.\n",
      "Game is Over...\n"
     ]
    }
   ],
   "source": [
    "\"\"\"\n",
    "break keyword\n",
    "\"\"\"\n",
    "\n",
    "game_plays = ['stage1', 'stage2', 'stage3', 'gameover','stage4', 'stage5']\n",
    "\n",
    "for play in game_plays:\n",
    "    if play == 'gameover':\n",
    "        print(\"Game is Over...\")\n",
    "        break\n",
    "    print(play +\" is complete.\")"
   ]
  },
  {
   "cell_type": "code",
   "execution_count": 26,
   "id": "be8e6668-fa04-4e56-ac06-c59a10cdb9d7",
   "metadata": {},
   "outputs": [
    {
     "name": "stdout",
     "output_type": "stream",
     "text": [
      "[1, 2, 3, 4, 5, 6, 7, 8, 9, 10]\n"
     ]
    }
   ],
   "source": [
    "\"\"\"\n",
    "List Comprehension\n",
    "\"\"\"\n",
    "\n",
    "one_to_ten =  [i+1 for i in range(10)]\n",
    "print(one_to_ten)"
   ]
  },
  {
   "cell_type": "code",
   "execution_count": null,
   "id": "2ed09ce5-1cf6-4ce1-b8bc-3a7268b79105",
   "metadata": {},
   "outputs": [],
   "source": [
    "\"\"\"\n",
    "List comprehension including conditions\n",
    "\"\"\"\n",
    "\n",
    "hotspurs = [['손흥민', 'A'], ['해리 케인','F'],\n",
    "            ['은돔벨레', 'F'],['델리 알리', 'B'],\n",
    "            ['루카스 모우라', 'B'],['에메르송', 'D']]\n",
    "\n",
    "poors= [player[0] for player in hotspurs if player[1] =='F']\n",
    "print(poors)"
   ]
  },
  {
   "cell_type": "code",
   "execution_count": 1,
   "id": "546d6660-773d-40a4-ba91-6ad2fec2782a",
   "metadata": {},
   "outputs": [
    {
     "name": "stdout",
     "output_type": "stream",
     "text": [
      "1 X 1 = 1\n",
      "1 X 2 = 2\n",
      "1 X 3 = 3\n",
      "1 X 4 = 4\n",
      "1 X 5 = 5\n",
      "1 X 6 = 6\n",
      "1 X 7 = 7\n",
      "1 X 8 = 8\n",
      "1 X 9 = 9\n",
      "2 X 1 = 2\n",
      "2 X 2 = 4\n",
      "2 X 3 = 6\n",
      "2 X 4 = 8\n",
      "2 X 5 = 10\n",
      "2 X 6 = 12\n",
      "2 X 7 = 14\n",
      "2 X 8 = 16\n",
      "2 X 9 = 18\n",
      "3 X 1 = 3\n",
      "3 X 2 = 6\n",
      "3 X 3 = 9\n",
      "3 X 4 = 12\n",
      "3 X 5 = 15\n",
      "3 X 6 = 18\n",
      "3 X 7 = 21\n",
      "3 X 8 = 24\n",
      "3 X 9 = 27\n",
      "4 X 1 = 4\n",
      "4 X 2 = 8\n",
      "4 X 3 = 12\n",
      "4 X 4 = 16\n",
      "4 X 5 = 20\n",
      "4 X 6 = 24\n",
      "4 X 7 = 28\n",
      "4 X 8 = 32\n",
      "4 X 9 = 36\n",
      "5 X 1 = 5\n",
      "5 X 2 = 10\n",
      "5 X 3 = 15\n",
      "5 X 4 = 20\n",
      "5 X 5 = 25\n",
      "5 X 6 = 30\n",
      "5 X 7 = 35\n",
      "5 X 8 = 40\n",
      "5 X 9 = 45\n",
      "6 X 1 = 6\n",
      "6 X 2 = 12\n",
      "6 X 3 = 18\n",
      "6 X 4 = 24\n",
      "6 X 5 = 30\n",
      "6 X 6 = 36\n",
      "6 X 7 = 42\n",
      "6 X 8 = 48\n",
      "6 X 9 = 54\n",
      "7 X 1 = 7\n",
      "7 X 2 = 14\n",
      "7 X 3 = 21\n",
      "7 X 4 = 28\n",
      "7 X 5 = 35\n",
      "7 X 6 = 42\n",
      "7 X 7 = 49\n",
      "7 X 8 = 56\n",
      "7 X 9 = 63\n",
      "8 X 1 = 8\n",
      "8 X 2 = 16\n",
      "8 X 3 = 24\n",
      "8 X 4 = 32\n",
      "8 X 5 = 40\n",
      "8 X 6 = 48\n",
      "8 X 7 = 56\n",
      "8 X 8 = 64\n",
      "8 X 9 = 72\n",
      "9 X 1 = 9\n",
      "9 X 2 = 18\n",
      "9 X 3 = 27\n",
      "9 X 4 = 36\n",
      "9 X 5 = 45\n",
      "9 X 6 = 54\n",
      "9 X 7 = 63\n",
      "9 X 8 = 72\n",
      "9 X 9 = 81\n"
     ]
    }
   ],
   "source": [
    "\"\"\"\n",
    "Nested Loops\n",
    "\"\"\"\n",
    "\n",
    "one_to_nine = [i+1 for i in range(9)]\n",
    "\n",
    "for i in one_to_nine:\n",
    "    for j in one_to_nine:\n",
    "        print(\"%d X %d = %d\" % (i,j,i*j))"
   ]
  },
  {
   "cell_type": "code",
   "execution_count": 3,
   "id": "921d0856-1b27-4f7a-94f5-7eab5fca177a",
   "metadata": {},
   "outputs": [
    {
     "name": "stdout",
     "output_type": "stream",
     "text": [
      " Do Something\n",
      " Do Something\n",
      " Do Something\n",
      " Do Something\n"
     ]
    }
   ],
   "source": [
    "x= 1\n",
    "y=1\n",
    "\n",
    "while x < 5:\n",
    "    print(\" Do Something\")\n",
    "    x+=1"
   ]
  }
 ],
 "metadata": {
  "kernelspec": {
   "display_name": "Python 3",
   "language": "python",
   "name": "python3"
  },
  "language_info": {
   "codemirror_mode": {
    "name": "ipython",
    "version": 3
   },
   "file_extension": ".py",
   "mimetype": "text/x-python",
   "name": "python",
   "nbconvert_exporter": "python",
   "pygments_lexer": "ipython3",
   "version": "3.8.8"
  }
 },
 "nbformat": 4,
 "nbformat_minor": 5
}
