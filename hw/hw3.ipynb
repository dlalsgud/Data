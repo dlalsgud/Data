{
 "cells": [
  {
   "cell_type": "code",
   "execution_count": 2,
   "id": "ccbd7064-a735-44d1-80a8-51d80ba4d534",
   "metadata": {},
   "outputs": [],
   "source": [
    "hairstyles = [\"bouffant\", \"pixie\", \"dreadlocks\", \"crew\", \"bowl\", \"mohawk\", \"flattop\"]\n",
    "prices = [30, 25, 40, 20, 20, 35, 50, 35]\n",
    "last_week = [2, 3, 5, 8, 4, 4, 6, 2]\n"
   ]
  },
  {
   "cell_type": "code",
   "execution_count": 3,
   "id": "8d0b6c17-45a1-4dff-ae6a-dcc0af4cbcb6",
   "metadata": {},
   "outputs": [
    {
     "name": "stdout",
     "output_type": "stream",
     "text": [
      "Average price is 31.875\n",
      "[25, 20, 35, 15, 15, 30, 45, 30]\n"
     ]
    }
   ],
   "source": [
    "i = 0\n",
    "total_price = 0\n",
    "for i in prices:\n",
    "     total_price += i\n",
    "\n",
    "average_price = total_price/len(prices)\n",
    "print(\"Average price is %s\" % average_price)\n",
    "\n",
    "new_prices = [price-5 for price in prices]\n",
    "print(new_prices)"
   ]
  },
  {
   "cell_type": "code",
   "execution_count": 29,
   "id": "2dbabc69-67c8-4629-a7b0-2ea9550ba6f0",
   "metadata": {},
   "outputs": [
    {
     "name": "stdout",
     "output_type": "stream",
     "text": [
      "1085\n",
      "Average daily revenue is 155.0\n"
     ]
    }
   ],
   "source": [
    "total_revenue = 0\n",
    "\n",
    "for i in range(len(hairstyles)+1):\n",
    "    total_revenue += prices[i]* last_week[i]\n",
    "    \n",
    "print(total_revenue)\n",
    "\n",
    "average_daily_revenue = total_revenue/7\n",
    "print(\"Average daily revenue is %s\" %average_daily_revenue)"
   ]
  },
  {
   "cell_type": "code",
   "execution_count": 34,
   "id": "554c7c63-6084-4e7b-9b59-76e70c1183ba",
   "metadata": {},
   "outputs": [
    {
     "name": "stdout",
     "output_type": "stream",
     "text": [
      "['bouffant', 'pixie', 'crew', 'bowl']\n"
     ]
    }
   ],
   "source": [
    "cuts_under_30 = [hairstyles[i] for i in range(len(hairstyles)+1) if new_prices[i] < 30]\n",
    "\n",
    "print(cuts_under_30)"
   ]
  }
 ],
 "metadata": {
  "kernelspec": {
   "display_name": "Python 3",
   "language": "python",
   "name": "python3"
  },
  "language_info": {
   "codemirror_mode": {
    "name": "ipython",
    "version": 3
   },
   "file_extension": ".py",
   "mimetype": "text/x-python",
   "name": "python",
   "nbconvert_exporter": "python",
   "pygments_lexer": "ipython3",
   "version": "3.8.8"
  }
 },
 "nbformat": 4,
 "nbformat_minor": 5
}
